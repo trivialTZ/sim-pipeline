{
 "cells": [
  {
   "cell_type": "markdown",
   "source": [
    "**Description**:\n",
    "\n",
    "This Jupyter notebook is part of the line-of-sight structure-enhanced ray-tracing halos rendering for external convergence and shear, the notebook facilitates computations pertinent to halos and mass sheet corrections.\n",
    "\n",
    "The crux of the notebook revolves around the introduction of two pivotal correction factors. The first is the external convergence, $ \\kappa_{\\text{ext}} $, defined by:\n",
    "\n",
    "$$ 1 - \\kappa_{\\text{ext}} = \\frac{(1-\\kappa_{\\text{od}})(1-\\kappa_{\\text{os}})}{1-\\kappa_{\\text{ds}}} $$\n",
    "\n",
    "The second correction factor is the external shear, $ \\gamma_{\\text{ext}} $, described by:\n",
    "\n",
    "$$ \\gamma_{\\text{ext}} = \\sqrt{(\\gamma_{\\text{od}1}+\\gamma_{\\text{os}1}-\\gamma_{\\text{ds}1})^2+(\\gamma_{\\text{od}2}+\\gamma_{\\text{os}2}-\\gamma_{\\text{ds}2})^2} $$\n",
    "\n",
    "These corrections are vital for ensuring precise and accurate gravitational lensing measurements under mass sheet degeneracy."
   ],
   "metadata": {
    "collapsed": false
   }
  },
  {
   "cell_type": "markdown",
   "source": [
    "### Importing Necessary Libraries\n",
    "\n",
    "Here we will import the required libraries and classes that we'll be using in the subsequent steps."
   ],
   "metadata": {
    "collapsed": false
   }
  },
  {
   "cell_type": "code",
   "execution_count": 1,
   "outputs": [
    {
     "name": "stderr",
     "output_type": "stream",
     "text": [
      "C:\\Users\\TXZ27\\AppData\\Local\\Programs\\Python\\Python310\\lib\\site-packages\\numba\\core\\decorators.py:262: NumbaDeprecationWarning: \u001B[1mnumba.generated_jit is deprecated. Please see the documentation at: https://numba.readthedocs.io/en/stable/reference/deprecation.html#deprecation-of-generated-jit for more information and advice on a suitable replacement.\u001B[0m\n",
      "  warnings.warn(msg, NumbaDeprecationWarning)\n"
     ]
    }
   ],
   "source": [
    "from slsim.Pipelines.halos_pipeline import HalosSkyPyPipeline\n",
    "from slsim.Halos.halos_lens import HalosLens\n",
    "from astropy.cosmology import FlatLambdaCDM\n",
    "from slsim.Halos.halos_plus_glass import run_kappaext_gammaext_kde_by_multiprocessing"
   ],
   "metadata": {
    "collapsed": false
   }
  },
  {
   "cell_type": "markdown",
   "source": [
    "### Initializing the SkyPy Pipeline\n",
    "\n",
    "We initialize the `HalosSkyPyPipeline` with specified parameters. This will help us fetch halo information for our simulations.\n"
   ],
   "metadata": {
    "collapsed": false
   }
  },
  {
   "cell_type": "code",
   "execution_count": 2,
   "outputs": [
    {
     "name": "stdout",
     "output_type": "stream",
     "text": [
      "<sim_pipeline.Pipelines.halos_pipeline.HalosSkyPyPipeline object at 0x000001A45413B2B0>\n"
     ]
    }
   ],
   "source": [
    "pipeline = HalosSkyPyPipeline(sky_area=0.0001, m_max='1.0E+16', m_min='1.0E+12', z_max=5.00)\n",
    "print(pipeline)\n"
   ],
   "metadata": {
    "collapsed": false
   }
  },
  {
   "cell_type": "markdown",
   "source": [
    "### Extracting Halos and Mass Sheet Corrections\n",
    "\n",
    "Let's extract halo and mass sheet correction data from the initialized pipeline.\n"
   ],
   "metadata": {
    "collapsed": false
   }
  },
  {
   "cell_type": "code",
   "execution_count": 3,
   "outputs": [
    {
     "name": "stdout",
     "output_type": "stream",
     "text": [
      "        z                 mass       \n",
      "------------------ ------------------\n",
      "1.9825096527464996   2590348743594.34\n",
      " 2.875622259110103 1411163820734.1914\n",
      " 3.758930841241644 1060723917992.5641\n",
      "1.4326317838394658  2691487950416.218\n",
      "3.8460653580842936  2038860338920.241\n",
      "2.8303204119139376 1100976510868.2717\n",
      "2.8067152453199404 1168169016767.9167\n",
      "1.4840746154238262 1199188096231.4836\n",
      "  4.21708897978203 1280366395440.8047\n",
      " 4.863165782482799 1355087055763.9373\n",
      "               ...                ...\n",
      "1.5650532807953348 1104019240062.7322\n",
      "3.7952642411675757 1219682448896.0598\n",
      " 4.645565081846584 1241530924825.2432\n",
      " 3.478494265337584 1016437908404.6642\n",
      "3.5282322856548785 1114697256267.6597\n",
      "2.8617243837514743 1486318269225.1934\n",
      "  3.43456005899281  1065871578864.191\n",
      "3.9568779713126507 1043091896383.6398\n",
      "2.7771102536906644 1089935734800.3723\n",
      "1.1442250950452302 1033991221042.2931\n",
      "3.0820509762040524 1412286953279.2761\n",
      "Length = 26 rows\n",
      "        z                kappa_ext       \n",
      "------------------ ----------------------\n",
      "0.9038544608721562  -0.016505344602755552\n",
      "1.1803651695382404  -0.013632490812946043\n",
      "1.4038562929342562  -0.012051304141922608\n",
      "1.6045265905956343  -0.010952538999740719\n",
      "1.7932012511482218  -0.010103772534056537\n",
      " 1.975141388474056  -0.009407027221330355\n",
      "2.1533380873961607  -0.008812138914744926\n",
      "2.3296704730697804  -0.008290124158351505\n",
      "2.5054125269928105   -0.00782315580667288\n",
      " 2.681486194660673  -0.007398606372624272\n",
      "2.8586000319026934 -0.0070078782376500086\n",
      "3.0373279731133964  -0.006645104950618498\n",
      "3.2181550085232526  -0.006305134192923733\n",
      "3.4015054957893853  -0.005984403838541587\n",
      "3.5877591465593968  -0.005680162005467688\n",
      " 3.777265391651981  -0.005389726987474737\n",
      "3.9703501632322356 -0.0051116527694602485\n",
      "  4.16732373823993  -0.004843833192544123\n",
      " 4.368484986330364  -0.004585337565948871\n",
      " 4.574126147895155  -0.004334614678183419\n",
      " 4.784535474912665 -0.0040910412763023206\n",
      "               5.0  -0.003853347377164655\n"
     ]
    }
   ],
   "source": [
    "halos = pipeline.halos\n",
    "mass_sheet_correction = pipeline.mass_sheet_correction\n",
    "\n",
    "print(halos)\n",
    "\n",
    "z_halos = halos['z']\n",
    "mass_halos = halos['mass']\n",
    "\n",
    "redshifts_mass_correction = mass_sheet_correction['z']\n",
    "kappa_ext = mass_sheet_correction['kappa_ext']\n",
    "\n",
    "print(mass_sheet_correction)\n"
   ],
   "metadata": {
    "collapsed": false
   }
  },
  {
   "cell_type": "markdown",
   "source": [
    "### Setting Up HalosLens\n",
    "\n",
    "Now, we'll set up `HalosLens` using the halos and mass correction lists we extracted earlier. We also specify the cosmology and the number of samples.\n"
   ],
   "metadata": {
    "collapsed": false
   }
  },
  {
   "cell_type": "code",
   "execution_count": 4,
   "outputs": [],
   "source": [
    "cosmo = FlatLambdaCDM(H0=70, Om0=0.3)\n",
    "\n",
    "halos_lens = HalosLens(halos_list=halos,\n",
    "                       mass_correction_list=mass_sheet_correction,\n",
    "                       sky_area=0.0001,\n",
    "                       cosmo=cosmo,\n",
    "                       samples_number=50)\n"
   ],
   "metadata": {
    "collapsed": false
   }
  },
  {
   "cell_type": "markdown",
   "source": [
    "### Filtering Halos by Redshift\n",
    "\n",
    "We filter halos based on the redshift, specifying a range to focus our analysis on.\n"
   ],
   "metadata": {
    "collapsed": false
   }
  },
  {
   "cell_type": "code",
   "execution_count": 5,
   "outputs": [
    {
     "name": "stdout",
     "output_type": "stream",
     "text": [
      "<lenstronomy.LensModel.lens_model.LensModel object at 0x000001A454121AE0> [<lenstronomy.Cosmo.lens_cosmo.LensCosmo object at 0x000001A454121930>, <lenstronomy.Cosmo.lens_cosmo.LensCosmo object at 0x000001A454122CB0>, <lenstronomy.Cosmo.lens_cosmo.LensCosmo object at 0x000001A454123130>, <lenstronomy.Cosmo.lens_cosmo.LensCosmo object at 0x000001A454122140>, <lenstronomy.Cosmo.lens_cosmo.LensCosmo object at 0x000001A4541207C0>, <lenstronomy.Cosmo.lens_cosmo.LensCosmo object at 0x000001A4541217E0>, <lenstronomy.Cosmo.lens_cosmo.LensCosmo object at 0x000001A454121000>, <lenstronomy.Cosmo.lens_cosmo.LensCosmo object at 0x000001A45413BD00>, <lenstronomy.Cosmo.lens_cosmo.LensCosmo object at 0x000001A45413AE00>, <lenstronomy.Cosmo.lens_cosmo.LensCosmo object at 0x000001A45413AB30>, <lenstronomy.Cosmo.lens_cosmo.LensCosmo object at 0x000001A45413BD30>, <lenstronomy.Cosmo.lens_cosmo.LensCosmo object at 0x000001A45413BC70>, <lenstronomy.Cosmo.lens_cosmo.LensCosmo object at 0x000001A45413BC40>, <lenstronomy.Cosmo.lens_cosmo.LensCosmo object at 0x000001A4541A3B20>, <lenstronomy.Cosmo.lens_cosmo.LensCosmo object at 0x000001A4541A3520>, <lenstronomy.Cosmo.lens_cosmo.LensCosmo object at 0x000001A4541A3610>, <lenstronomy.Cosmo.lens_cosmo.LensCosmo object at 0x000001A4545BE980>, <lenstronomy.Cosmo.lens_cosmo.LensCosmo object at 0x000001A4545BEC50>, <lenstronomy.Cosmo.lens_cosmo.LensCosmo object at 0x000001A4545BE830>, <lenstronomy.Cosmo.lens_cosmo.LensCosmo object at 0x000001A4545BE860>, <lenstronomy.Cosmo.lens_cosmo.LensCosmo object at 0x000001A4545BE800>, <lenstronomy.Cosmo.lens_cosmo.LensCosmo object at 0x000001A4545BE530>, <lenstronomy.Cosmo.lens_cosmo.LensCosmo object at 0x000001A4545BE650>, <lenstronomy.Cosmo.lens_cosmo.LensCosmo object at 0x000001A4545BE440>, <lenstronomy.Cosmo.lens_cosmo.LensCosmo object at 0x000001A4545BE320>, <lenstronomy.Cosmo.lens_cosmo.LensCosmo object at 0x000001A4545BEDA0>, <lenstronomy.Cosmo.lens_cosmo.LensCosmo object at 0x000001A4545BEEC0>, <lenstronomy.Cosmo.lens_cosmo.LensCosmo object at 0x000001A4545BEFE0>, <lenstronomy.Cosmo.lens_cosmo.LensCosmo object at 0x000001A4545BF100>] [{'Rs': 3.1976474246689603, 'alpha_Rs': 0.18071617785433927, 'center_x': 16.296889615362275, 'center_y': -0.4917649787196953}, {'Rs': 3.4870602567325135, 'alpha_Rs': 0.17829390643849993, 'center_x': -10.222649681192351, 'center_y': -4.975202628529496}, {'Rs': 3.513862463740909, 'alpha_Rs': 0.17810257026257495, 'center_x': -20.165592226537758, 'center_y': 1.680650052747102}, {'Rs': 3.1818206954580797, 'alpha_Rs': 0.18086926552006202, 'center_x': -6.377516142946189, 'center_y': 14.831513669398264}, {'Rs': 3.173531060010705, 'alpha_Rs': 0.18095038075499598, 'center_x': -9.070567893716003, 'center_y': -6.351653534057517}, {'Rs': 3.6249765957993083, 'alpha_Rs': 0.17736242150220433, 'center_x': -2.5768189971163187, 'center_y': 17.042806500458937}, {'Rs': 3.808046698299142, 'alpha_Rs': 0.1763147856678012, 'center_x': -11.802488801827053, 'center_y': 9.334242589440358}, {'Rs': 3.2545237477065707, 'alpha_Rs': 0.18018485579308494, 'center_x': -8.834134715343211, 'center_y': -6.152055681649173}, {'Rs': 3.4374103809604897, 'alpha_Rs': 0.17866216195557202, 'center_x': 19.406000575495206, 'center_y': -2.045580119164869}, {'Rs': 3.628244572994508, 'alpha_Rs': 0.1773419006182592, 'center_x': 7.731194931654673, 'center_y': 4.231540307594724}, {'Rs': 3.49827044942973, 'alpha_Rs': 0.17821325308523608, 'center_x': -2.4345200087321346, 'center_y': -14.466216177627757}, {'Rs': 3.747753501186917, 'alpha_Rs': 0.17663757753798373, 'center_x': -0.47295443695055567, 'center_y': 2.813720617256101}, {'Rs': 3.3988202845282376, 'alpha_Rs': 0.1789611690495273, 'center_x': 11.63389651498306, 'center_y': 9.28510483243946}, {'Rs': 3.414698769861126, 'alpha_Rs': 0.17883675757098572, 'center_x': -9.31549575291876, 'center_y': 11.527265600303988}, {'Rs': 3.192803463036291, 'alpha_Rs': 0.1807627856036909, 'center_x': 10.31664752882822, 'center_y': -5.054295258648552}, {'Rs': 3.3847096248363013, 'alpha_Rs': 0.1790733725336928, 'center_x': 14.005456932781609, 'center_y': -2.2714179234131144}, {'Rs': 3.5475486508948006, 'alpha_Rs': 0.17786929127196607, 'center_x': -17.082978014405814, 'center_y': -3.5084754907781437}, {'Rs': 3.2684450124385327, 'alpha_Rs': 0.18005918401637205, 'center_x': 3.002008956528603, 'center_y': 4.737658810721511}, {'kappa': -0.0070078782376500086, 'ra_0': 0, 'dec_0': 0}, {'kappa': -0.006645104950618498, 'ra_0': 0, 'dec_0': 0}, {'kappa': -0.006305134192923733, 'ra_0': 0, 'dec_0': 0}, {'kappa': -0.005984403838541587, 'ra_0': 0, 'dec_0': 0}, {'kappa': -0.005680162005467688, 'ra_0': 0, 'dec_0': 0}, {'kappa': -0.005389726987474737, 'ra_0': 0, 'dec_0': 0}, {'kappa': -0.0051116527694602485, 'ra_0': 0, 'dec_0': 0}, {'kappa': -0.004843833192544123, 'ra_0': 0, 'dec_0': 0}, {'kappa': -0.004585337565948871, 'ra_0': 0, 'dec_0': 0}, {'kappa': -0.004334614678183419, 'ra_0': 0, 'dec_0': 0}, {'kappa': -0.0040910412763023206, 'ra_0': 0, 'dec_0': 0}]\n",
      "----------------------------------\n",
      "<lenstronomy.LensModel.lens_model.LensModel object at 0x000001A4541210C0> [<lenstronomy.Cosmo.lens_cosmo.LensCosmo object at 0x000001A432E0B1F0>, <lenstronomy.Cosmo.lens_cosmo.LensCosmo object at 0x000001A454147FD0>, <lenstronomy.Cosmo.lens_cosmo.LensCosmo object at 0x000001A4545BF580>, <lenstronomy.Cosmo.lens_cosmo.LensCosmo object at 0x000001A4545BF6A0>, <lenstronomy.Cosmo.lens_cosmo.LensCosmo object at 0x000001A4545BF7C0>, <lenstronomy.Cosmo.lens_cosmo.LensCosmo object at 0x000001A4545BF8E0>, <lenstronomy.Cosmo.lens_cosmo.LensCosmo object at 0x000001A4545BFA00>, <lenstronomy.Cosmo.lens_cosmo.LensCosmo object at 0x000001A4545BFB20>, <lenstronomy.Cosmo.lens_cosmo.LensCosmo object at 0x000001A4545BFC40>, <lenstronomy.Cosmo.lens_cosmo.LensCosmo object at 0x000001A4545BFD60>, <lenstronomy.Cosmo.lens_cosmo.LensCosmo object at 0x000001A4545BFE80>, <lenstronomy.Cosmo.lens_cosmo.LensCosmo object at 0x000001A4545BFFA0>, <lenstronomy.Cosmo.lens_cosmo.LensCosmo object at 0x000001A45461C100>, <lenstronomy.Cosmo.lens_cosmo.LensCosmo object at 0x000001A45461C220>, <lenstronomy.Cosmo.lens_cosmo.LensCosmo object at 0x000001A45461C340>, <lenstronomy.Cosmo.lens_cosmo.LensCosmo object at 0x000001A45461C460>, <lenstronomy.Cosmo.lens_cosmo.LensCosmo object at 0x000001A45461C580>, <lenstronomy.Cosmo.lens_cosmo.LensCosmo object at 0x000001A45461C6A0>] [{'Rs': 4.408187510615777, 'alpha_Rs': 0.1805264188856354, 'center_x': -10.493670686204387, 'center_y': 14.137825102556587}, {'Rs': 4.044927545361075, 'alpha_Rs': 0.1836801139049536, 'center_x': 1.0726934438117217, 'center_y': 14.647702364253178}, {'Rs': 4.080806407897115, 'alpha_Rs': 0.18333435652834093, 'center_x': 9.08628510948145, 'center_y': -1.567583923666748}, {'Rs': 4.17385099908458, 'alpha_Rs': 0.18247452990490404, 'center_x': -18.231819473128645, 'center_y': 3.5115217112418144}, {'Rs': 4.749142958420119, 'alpha_Rs': 0.17817457728089534, 'center_x': 1.0738137578582738, 'center_y': -7.7654049373416525}, {'Rs': 4.136425364754766, 'alpha_Rs': 0.18281412210756634, 'center_x': 15.166489846632855, 'center_y': 11.840800132817451}, {'Rs': 4.870212299242096, 'alpha_Rs': 0.17745869731171723, 'center_x': 0.822160782443388, 'center_y': 0.0346831807018223}, {'Rs': 3.835152287801332, 'alpha_Rs': 0.18587281918813728, 'center_x': -4.722146002642722, 'center_y': 16.962292720530098}, {'kappa': -0.016505344602755552, 'ra_0': 0, 'dec_0': 0}, {'kappa': -0.013632490812946043, 'ra_0': 0, 'dec_0': 0}, {'kappa': -0.012051304141922608, 'ra_0': 0, 'dec_0': 0}, {'kappa': -0.010952538999740719, 'ra_0': 0, 'dec_0': 0}, {'kappa': -0.010103772534056537, 'ra_0': 0, 'dec_0': 0}, {'kappa': -0.009407027221330355, 'ra_0': 0, 'dec_0': 0}, {'kappa': -0.008812138914744926, 'ra_0': 0, 'dec_0': 0}, {'kappa': -0.008290124158351505, 'ra_0': 0, 'dec_0': 0}, {'kappa': -0.00782315580667288, 'ra_0': 0, 'dec_0': 0}, {'kappa': -0.007398606372624272, 'ra_0': 0, 'dec_0': 0}]\n",
      "----------------------------------\n",
      "<lenstronomy.LensModel.lens_model.LensModel object at 0x000001A432E08790> [<lenstronomy.Cosmo.lens_cosmo.LensCosmo object at 0x000001A45461CA90>, <lenstronomy.Cosmo.lens_cosmo.LensCosmo object at 0x000001A45461CAC0>, <lenstronomy.Cosmo.lens_cosmo.LensCosmo object at 0x000001A45461CC40>, <lenstronomy.Cosmo.lens_cosmo.LensCosmo object at 0x000001A45461CD60>, <lenstronomy.Cosmo.lens_cosmo.LensCosmo object at 0x000001A45461CE80>, <lenstronomy.Cosmo.lens_cosmo.LensCosmo object at 0x000001A45461CFA0>, <lenstronomy.Cosmo.lens_cosmo.LensCosmo object at 0x000001A45461D0C0>, <lenstronomy.Cosmo.lens_cosmo.LensCosmo object at 0x000001A45461D1E0>, <lenstronomy.Cosmo.lens_cosmo.LensCosmo object at 0x000001A45461D300>, <lenstronomy.Cosmo.lens_cosmo.LensCosmo object at 0x000001A45461D420>, <lenstronomy.Cosmo.lens_cosmo.LensCosmo object at 0x000001A45461D540>, <lenstronomy.Cosmo.lens_cosmo.LensCosmo object at 0x000001A45461D660>, <lenstronomy.Cosmo.lens_cosmo.LensCosmo object at 0x000001A45461D780>, <lenstronomy.Cosmo.lens_cosmo.LensCosmo object at 0x000001A45461D8A0>, <lenstronomy.Cosmo.lens_cosmo.LensCosmo object at 0x000001A45461D9C0>, <lenstronomy.Cosmo.lens_cosmo.LensCosmo object at 0x000001A45461DAE0>, <lenstronomy.Cosmo.lens_cosmo.LensCosmo object at 0x000001A45461DC00>, <lenstronomy.Cosmo.lens_cosmo.LensCosmo object at 0x000001A45461DD20>, <lenstronomy.Cosmo.lens_cosmo.LensCosmo object at 0x000001A45461DE40>, <lenstronomy.Cosmo.lens_cosmo.LensCosmo object at 0x000001A45461DF60>, <lenstronomy.Cosmo.lens_cosmo.LensCosmo object at 0x000001A45461E080>, <lenstronomy.Cosmo.lens_cosmo.LensCosmo object at 0x000001A45461E1A0>, <lenstronomy.Cosmo.lens_cosmo.LensCosmo object at 0x000001A45461E2C0>, <lenstronomy.Cosmo.lens_cosmo.LensCosmo object at 0x000001A45461E3E0>, <lenstronomy.Cosmo.lens_cosmo.LensCosmo object at 0x000001A45461E500>, <lenstronomy.Cosmo.lens_cosmo.LensCosmo object at 0x000001A45461E620>, <lenstronomy.Cosmo.lens_cosmo.LensCosmo object at 0x000001A45461E740>, <lenstronomy.Cosmo.lens_cosmo.LensCosmo object at 0x000001A45461E860>, <lenstronomy.Cosmo.lens_cosmo.LensCosmo object at 0x000001A45461E980>, <lenstronomy.Cosmo.lens_cosmo.LensCosmo object at 0x000001A45461EAA0>, <lenstronomy.Cosmo.lens_cosmo.LensCosmo object at 0x000001A45461EBC0>, <lenstronomy.Cosmo.lens_cosmo.LensCosmo object at 0x000001A45461ECE0>, <lenstronomy.Cosmo.lens_cosmo.LensCosmo object at 0x000001A45461EE00>, <lenstronomy.Cosmo.lens_cosmo.LensCosmo object at 0x000001A45461EF20>, <lenstronomy.Cosmo.lens_cosmo.LensCosmo object at 0x000001A45461F040>, <lenstronomy.Cosmo.lens_cosmo.LensCosmo object at 0x000001A45461F160>, <lenstronomy.Cosmo.lens_cosmo.LensCosmo object at 0x000001A45461F280>, <lenstronomy.Cosmo.lens_cosmo.LensCosmo object at 0x000001A45461F3A0>, <lenstronomy.Cosmo.lens_cosmo.LensCosmo object at 0x000001A45461F4C0>, <lenstronomy.Cosmo.lens_cosmo.LensCosmo object at 0x000001A45461F5E0>, <lenstronomy.Cosmo.lens_cosmo.LensCosmo object at 0x000001A45461F700>, <lenstronomy.Cosmo.lens_cosmo.LensCosmo object at 0x000001A45461F820>, <lenstronomy.Cosmo.lens_cosmo.LensCosmo object at 0x000001A45461F940>, <lenstronomy.Cosmo.lens_cosmo.LensCosmo object at 0x000001A45461FA60>, <lenstronomy.Cosmo.lens_cosmo.LensCosmo object at 0x000001A45461FB80>, <lenstronomy.Cosmo.lens_cosmo.LensCosmo object at 0x000001A45461FCA0>, <lenstronomy.Cosmo.lens_cosmo.LensCosmo object at 0x000001A45461FDC0>] [{'Rs': 4.408187510615777, 'alpha_Rs': 0.368795896789733, 'center_x': 13.159814561657885, 'center_y': -15.176642687815477}, {'Rs': 4.9234168093254915, 'alpha_Rs': 0.3619226183063806, 'center_x': 9.843698632283939, 'center_y': 8.882802040084556}, {'Rs': 5.369025662641679, 'alpha_Rs': 0.3576239393425366, 'center_x': -14.950280029348496, 'center_y': -1.878471978593472}, {'Rs': 4.044927545361075, 'alpha_Rs': 0.37523855371513065, 'center_x': 5.307428282410495, 'center_y': 1.6295927259722984}, {'Rs': 5.4102930129737175, 'alpha_Rs': 0.35728968390297483, 'center_x': -17.329760977332008, 'center_y': -3.0256411301454835}, {'Rs': 4.89904839896469, 'alpha_Rs': 0.3621976097888201, 'center_x': -8.278736460427124, 'center_y': -4.756081727318941}, {'Rs': 4.886284849678448, 'alpha_Rs': 0.3623434468082928, 'center_x': 13.402038738776282, 'center_y': -1.3536754069774524}, {'Rs': 4.080806407897115, 'alpha_Rs': 0.3745322088899984, 'center_x': 12.471108936022983, 'center_y': 15.049411992233937}, {'Rs': 5.581375409772536, 'alpha_Rs': 0.3560066673598103, 'center_x': -14.208866229954936, 'center_y': 9.865368223327268}, {'Rs': 5.863248393322601, 'alpha_Rs': 0.3542252767905944, 'center_x': 13.116653826185626, 'center_y': -5.903920247876007}, {'Rs': 5.01098926735688, 'alpha_Rs': 0.3609708235261983, 'center_x': -13.021627120469846, 'center_y': -6.7751445371899734}, {'Rs': 5.292579763362395, 'alpha_Rs': 0.35826986525442567, 'center_x': 0.3559164528364654, 'center_y': 2.888043867903163}, {'Rs': 5.5864071133090825, 'alpha_Rs': 0.355971346875594, 'center_x': 12.749817441449188, 'center_y': 13.780154122070607}, {'Rs': 4.17385099908458, 'alpha_Rs': 0.3727756763412915, 'center_x': -3.0771314121767697, 'center_y': 2.5514870632129965}, {'Rs': 4.749142958420119, 'alpha_Rs': 0.3639913394341862, 'center_x': -14.416726429832071, 'center_y': 9.697842169866249}, {'Rs': 4.136425364754766, 'alpha_Rs': 0.37346942638461894, 'center_x': -5.640764498936759, 'center_y': -2.8207152060881757}, {'Rs': 5.386285993075691, 'alpha_Rs': 0.3574829238704531, 'center_x': -10.567371189081587, 'center_y': 2.5762287884113464}, {'Rs': 5.7704149752727565, 'alpha_Rs': 0.3547689310386566, 'center_x': 15.42606080156925, 'center_y': -12.58437364127768}, {'Rs': 5.233162603114432, 'alpha_Rs': 0.35879664489615304, 'center_x': 0.18724366579791094, 'center_y': -8.221803182819725}, {'Rs': 5.257610702361228, 'alpha_Rs': 0.35857722184770136, 'center_x': -8.280619454971717, 'center_y': 9.78245710730765}, {'Rs': 4.915958563009144, 'alpha_Rs': 0.3620063055291313, 'center_x': -0.24270064034861183, 'center_y': 20.130507227244255}, {'Rs': 5.211436424492614, 'alpha_Rs': 0.35899481882512385, 'center_x': 2.5348153522042254, 'center_y': -1.712873844786062}, {'Rs': 5.462159625532705, 'alpha_Rs': 0.3568835116735375, 'center_x': -12.954935894530575, 'center_y': 6.595506278071202}, {'Rs': 4.870212299242096, 'alpha_Rs': 0.36252887428998976, 'center_x': 16.08268715812194, 'center_y': 2.2889176650705725}, {'Rs': 3.835152287801332, 'alpha_Rs': 0.37971801282310536, 'center_x': -2.007078638265549, 'center_y': -2.086694494494696}, {'Rs': 5.032423834613932, 'alpha_Rs': 0.3607463291785931, 'center_x': -17.509954996615217, 'center_y': -8.39762841748524}, {'kappa': -0.016505344602755552, 'ra_0': 0, 'dec_0': 0}, {'kappa': -0.013632490812946043, 'ra_0': 0, 'dec_0': 0}, {'kappa': -0.012051304141922608, 'ra_0': 0, 'dec_0': 0}, {'kappa': -0.010952538999740719, 'ra_0': 0, 'dec_0': 0}, {'kappa': -0.010103772534056537, 'ra_0': 0, 'dec_0': 0}, {'kappa': -0.009407027221330355, 'ra_0': 0, 'dec_0': 0}, {'kappa': -0.008812138914744926, 'ra_0': 0, 'dec_0': 0}, {'kappa': -0.008290124158351505, 'ra_0': 0, 'dec_0': 0}, {'kappa': -0.00782315580667288, 'ra_0': 0, 'dec_0': 0}, {'kappa': -0.007398606372624272, 'ra_0': 0, 'dec_0': 0}, {'kappa': -0.0070078782376500086, 'ra_0': 0, 'dec_0': 0}, {'kappa': -0.006645104950618498, 'ra_0': 0, 'dec_0': 0}, {'kappa': -0.006305134192923733, 'ra_0': 0, 'dec_0': 0}, {'kappa': -0.005984403838541587, 'ra_0': 0, 'dec_0': 0}, {'kappa': -0.005680162005467688, 'ra_0': 0, 'dec_0': 0}, {'kappa': -0.005389726987474737, 'ra_0': 0, 'dec_0': 0}, {'kappa': -0.0051116527694602485, 'ra_0': 0, 'dec_0': 0}, {'kappa': -0.004843833192544123, 'ra_0': 0, 'dec_0': 0}, {'kappa': -0.004585337565948871, 'ra_0': 0, 'dec_0': 0}, {'kappa': -0.004334614678183419, 'ra_0': 0, 'dec_0': 0}, {'kappa': -0.0040910412763023206, 'ra_0': 0, 'dec_0': 0}]\n"
     ]
    }
   ],
   "source": [
    "(ds_data, od_data, os_data) = halos_lens.filter_halos_by_redshift(zd=2.8, zs=4.9)\n",
    "\n",
    "lens_model_ds, lens_cosmo_ds, kwargs_lens_ds = ds_data\n",
    "lens_model_od, lens_cosmo_od, kwargs_lens_od = od_data\n",
    "lens_model_os, lens_cosmo_os, kwargs_lens_os = os_data\n",
    "\n",
    "print(lens_model_ds, lens_cosmo_ds, kwargs_lens_ds)\n",
    "print('----------------------------------')\n",
    "print(lens_model_od, lens_cosmo_od, kwargs_lens_od)\n",
    "print('----------------------------------')\n",
    "print(lens_model_os, lens_cosmo_os, kwargs_lens_os)\n"
   ],
   "metadata": {
    "collapsed": false
   }
  },
  {
   "cell_type": "markdown",
   "source": [
    "### Computing Kappa and Gamma Values\n",
    "\n",
    "Let's compute various kappa and gamma values, which are essential for understanding the lensing effects.\n"
   ],
   "metadata": {
    "collapsed": false
   }
  },
  {
   "cell_type": "code",
   "execution_count": 6,
   "outputs": [
    {
     "name": "stdout",
     "output_type": "stream",
     "text": [
      "-0.06306516893738509 0.344352295851974 0.011535728588834247 0.005089607577925259 0.13488164137667735 -0.012474191768141463 0.015367929151466342 0.002168842883065736 -0.022513635400400744\n"
     ]
    }
   ],
   "source": [
    "kappa_od, kappa_os, gamma_od1, gamma_od2, gamma_os1, gamma_os2, kappa_ds, gamma_ds1, gamma_ds2 = halos_lens.compute_various_kappa_gamma_values(zd=2.2, zs=4.8)\n",
    "\n",
    "print(kappa_od, kappa_os, gamma_od1, gamma_od2, gamma_os1, gamma_os2, kappa_ds, gamma_ds1, gamma_ds2)\n"
   ],
   "metadata": {
    "collapsed": false
   }
  },
  {
   "cell_type": "markdown",
   "source": [
    "### Running Multi-Processing Simulation\n",
    "\n",
    "Finally, we run a simulation to get kappa and gamma values using multi-processing for increased efficiency. We'll set the number of iterations to 50 for this run.\n"
   ],
   "metadata": {
    "collapsed": false
   }
  },
  {
   "cell_type": "code",
   "execution_count": 7,
   "outputs": [
    {
     "name": "stderr",
     "output_type": "stream",
     "text": [
      "C:\\Users\\TXZ27\\OneDrive\\Documents\\GitHub\\sim-pipeline\\sim_pipeline\\Halos\\halos_plus_glass.py:474: UserWarning: No cosmology provided, instead uses astropy.cosmology default cosmology\n",
      "  warnings.warn(\"No cosmology provided, instead uses astropy.cosmology default cosmology\")\n"
     ]
    },
    {
     "name": "stdout",
     "output_type": "stream",
     "text": [
      "The 50 halo-lists took 672.0182063579559 seconds to run\n"
     ]
    }
   ],
   "source": [
    "distri = run_kappaext_gammaext_kde_by_multiprocessing(n_iterations=50)\n"
   ],
   "metadata": {
    "collapsed": false
   }
  },
  {
   "cell_type": "code",
   "execution_count": 13,
   "outputs": [
    {
     "name": "stdout",
     "output_type": "stream",
     "text": [
      "63700\n",
      "{'zd': 2.4000000000000004, 'zs': 4.9, 'kappa': 0.2599972797778004, 'gamma': 0.03157019983651382}\n"
     ]
    }
   ],
   "source": [
    "print(len(distri))\n",
    "print(distri[13939])"
   ],
   "metadata": {
    "collapsed": false
   }
  },
  {
   "cell_type": "code",
   "execution_count": 19,
   "outputs": [
    {
     "data": {
      "text/plain": "<Figure size 600x600 with 3 Axes>",
      "image/png": "[encoded data removed]"
     },
     "metadata": {},
     "output_type": "display_data"
    }
   ],
   "source": [
    "import seaborn as sns\n",
    "import matplotlib.pyplot as plt\n",
    "\n",
    "# Extract entries from distri that meet the criteria\n",
    "filtered_entries = [entry for entry in distri if abs(entry['zd'] - 2.4) < 0.01 and abs(entry['zs'] - 4.9) < 0.01]\n",
    "\n",
    "# Extract kappa and gamma values from these entries\n",
    "kappas = [entry['kappa'] for entry in filtered_entries]\n",
    "gammas = [entry['gamma'] for entry in filtered_entries]\n",
    "\n",
    "modified_plot = sns.jointplot(x=kappas, y=gammas, kind='hex', gridsize=20)\n",
    "\n",
    "# Set custom labels and title\n",
    "modified_plot.ax_joint.set_xlabel('Kappa', fontweight='bold')\n",
    "modified_plot.ax_joint.set_ylabel('Gamma', fontweight='bold')\n",
    "modified_plot.fig.suptitle(\"Kappa and Gamma values for |zd-2.4| <= 0.01 and |zs-4.9| <= 0.01\")\n",
    "\n",
    "plt.show()\n"
   ],
   "metadata": {
    "collapsed": false
   }
  },
  {
   "cell_type": "code",
   "execution_count": null,
   "outputs": [],
   "source": [],
   "metadata": {
    "collapsed": false
   }
  }
 ],
 "metadata": {
  "kernelspec": {
   "display_name": "Python 3",
   "language": "python",
   "name": "python3"
  },
  "language_info": {
   "codemirror_mode": {
    "name": "ipython",
    "version": 2
   },
   "file_extension": ".py",
   "mimetype": "text/x-python",
   "name": "python",
   "nbconvert_exporter": "python",
   "pygments_lexer": "ipython2",
   "version": "2.7.6"
  }
 },
 "nbformat": 4,
 "nbformat_minor": 0
}
